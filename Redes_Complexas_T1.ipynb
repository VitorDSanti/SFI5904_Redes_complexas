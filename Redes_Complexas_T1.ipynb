{
  "cells": [
    {
      "cell_type": "markdown",
      "metadata": {
        "id": "view-in-github",
        "colab_type": "text"
      },
      "source": [
        "<a href=\"https://colab.research.google.com/github/VitorDSanti/SFI5904_Redes_complexas/blob/main/Redes_Complexas_T1.ipynb\" target=\"_parent\"><img src=\"https://colab.research.google.com/assets/colab-badge.svg\" alt=\"Open In Colab\"/></a>"
      ]
    },
    {
      "cell_type": "markdown",
      "metadata": {
        "id": "7hUvzJTK2jha"
      },
      "source": [
        "#Produção de Redes Complexas e Análise de Resultados\n",
        "\n",
        "---\n",
        "\n",
        "**Objetivo da Apresentação:**\n",
        "\n",
        "*   Familiarização com os conceitos básicos de Grafos e Redes, sejam eles conceituais ou de script.\n",
        "*   Apresentação de todos os conceitos utilizando as três principais bibliotecas de Redes (xNetwork, iGraph e Graph-Tool).\n",
        "\n",
        "**Tópicos Abordados:**\n",
        "\n",
        "*   Construção de Rede Simples.\n",
        "*   Construção usual de Redes (direcionadas e não-direcionadas)\n",
        "*   Conversão de Rede não-direcionada em direcionada\n",
        "*   Conversão de Rede direcionada em não-direcionada\n",
        "*   Extração de dados Fundamentais\n",
        "*   Construção de Rede com Funções Externas\n",
        "*   Comparação de desempenho\n",
        "\n",
        "\n",
        "\n"
      ]
    },
    {
      "cell_type": "code",
      "execution_count": null,
      "metadata": {
        "id": "cHdknfHrjPpg",
        "collapsed": true
      },
      "outputs": [],
      "source": [
        "!pip install python-igraph\n",
        "!pip install -q condacolab"
      ]
    },
    {
      "cell_type": "code",
      "execution_count": null,
      "metadata": {
        "id": "tlOEYr2g2j_5"
      },
      "outputs": [],
      "source": [
        "import networkx as nx\n",
        "import igraph as ig\n",
        "import random\n",
        "import matplotlib.pyplot as plt"
      ]
    },
    {
      "cell_type": "code",
      "source": [
        "import condacolab\n",
        "condacolab.install()\n",
        "!mamba install -c conda-forge graph-tool -y"
      ],
      "metadata": {
        "id": "0AnN_bNNVpHD"
      },
      "execution_count": null,
      "outputs": []
    },
    {
      "cell_type": "markdown",
      "metadata": {
        "id": "eNYz89DTHe8k"
      },
      "source": [
        "---\n",
        "\n",
        "##Construção de Rede Simples\n",
        "\n",
        "**Conceitos Fundamentais:**\n",
        "\n",
        "*   **Grafo:** Estrutura matemática formada por um conjunto de nós e arestas, que conectam pares de nós.\n",
        "*   **Rede:** Representação de sistemas reais por meio de um grafo.\n",
        "*   **Rede Complexa:** Tipo de Rede com padrões de conexão não triviais.\n",
        "*   **Nós (nodes/vértices):** Representam as entidades do grafo (pessoas, computadores, artigos, etc...).\n",
        "*   **Arestas (edges):** Representam as conexões entre pares de nós (amizade no facebook, conexão via cabo, citação, etc...)."
      ]
    },
    {
      "cell_type": "code",
      "execution_count": null,
      "metadata": {
        "collapsed": true,
        "id": "DCCdFlKqfHaf"
      },
      "outputs": [],
      "source": [
        "#------xNetwork------\n",
        "\n",
        "xN_n = 10 #número de nós na rede\n",
        "xN_network1 = nx.Graph() #criação de rede vazia\n",
        "xN_network1.add_nodes_from(range(1,xN_n + 1)) #adição de 10 nós (1 a 10)\n",
        "xN_network1_edges = [\n",
        "    (1, 2), (8, 4), (4, 5),\n",
        "    (6, 5), (10, 2), (7, 3), (8, 9),\n",
        "    (7, 10), (10, 1), (6, 10), (7, 9),\n",
        "    (8, 3), (2, 8), (4, 7), (1, 9), (5, 7)\n",
        "]\n",
        "xN_network1.add_edges_from(xN_network1_edges) #adição das arestas\n",
        "\n",
        "print(\"Rede 'xN_network1'\")\n",
        "nx.draw(xN_network1, with_labels=True, node_color='skyblue', edge_color='gray', node_size=500) #chamada de exibição\n",
        "plt.show()"
      ]
    },
    {
      "cell_type": "code",
      "execution_count": null,
      "metadata": {
        "id": "mVRnqC_glf3H"
      },
      "outputs": [],
      "source": [
        "#-------iGraph-------\n",
        "\n",
        "iG_n = 10 #número de nós na rede\n",
        "iG_network1 = ig.Graph() #criação de rede vazia\n",
        "iG_network1.add_vertices(iG_n) #adição de 10 nós (0 a 9)\n",
        "iG_network1_edges = [\n",
        "    (0, 1), (7, 3), (3, 4),\n",
        "    (5, 4), (9, 1), (6, 2), (7, 8),\n",
        "    (6, 9), (9, 0), (5, 9), (6, 8),\n",
        "    (7, 2), (1, 7), (3, 6), (0, 8), (4, 6)\n",
        "]\n",
        "iG_network1.add_edges(iG_network1_edges) #adição das arestas\n",
        "\n",
        "print(\"Rede 'iG_network1'\")\n",
        "ig.plot(iG_network1, vertex_color=\"yellow\", vertex_size=25, edge_color=\"gray\", vertex_label=range(iG_n)) #chamada de exibição"
      ]
    },
    {
      "cell_type": "code",
      "execution_count": null,
      "metadata": {
        "id": "E0bdxAuGlfqw"
      },
      "outputs": [],
      "source": [
        "#-----Graph-Tool-----\n",
        "\n",
        "import time, numpy as np\n",
        "from graph_tool import generation as gtgen\n",
        "import graph_tool.all as gt\n",
        "\n",
        "gt_n = 10  # número de nós\n",
        "gt_network1 = gt.Graph(directed=False)  # grafo não-direcionado\n",
        "\n",
        "# adiciona 10 vértices\n",
        "gt_network1.add_vertex(gt_n)\n",
        "\n",
        "# define as arestas\n",
        "gt_network1_edges = [\n",
        "    (0, 1), (7, 3), (3, 4),\n",
        "    (5, 4), (9, 1), (6, 2), (7, 8),\n",
        "    (6, 9), (9, 0), (5, 9), (6, 8),\n",
        "    (7, 2), (1, 7), (3, 6), (0, 8), (4, 6)\n",
        "]\n",
        "\n",
        "# adiciona arestas\n",
        "gt_network1.add_edge_list(gt_network1_edges)\n",
        "\n",
        "print(\"Rede 'gt_network1'\")\n",
        "\n",
        "# propriedades visuais para plotar\n",
        "pos = gt.sfdp_layout(gt_network1)  # layout de força\n",
        "gt.graph_draw(\n",
        "    gt_network1, pos=pos,\n",
        "    vertex_fill_color=\"yellow\",\n",
        "    vertex_size=25,\n",
        "    vertex_text=gt_network1.new_vertex_property(\"string\", [str(v) for v in gt_network1.vertices()]),\n",
        "    edge_color=\"gray\",\n",
        "    output_size=(400, 400)\n",
        ")"
      ]
    },
    {
      "cell_type": "markdown",
      "metadata": {
        "id": "u3UXtRkQ4sDQ"
      },
      "source": [
        "---\n",
        "\n",
        "##Construção usual de Redes (direcionadas e não-direcionadas)\n",
        "\n",
        "A construção de um grafo/rede não precisa ser declarada por etapas. Existem funções prontas em todas as bibliotecas, onde é possível declarar os nós e o tipo de conexão.\n",
        "\n",
        "**Ex:**\n",
        "\n",
        "*   **xNetwork:** `nx.erdos_renyi_graph()`, `nx.barabasi_albert_graph()`, `nx.watts_strogatz_graph()`.\n",
        "*   **iGraph:** `ig.Graph.Erdos_Renyi()`, `ig.Graph.Barabasi()`, `ig.Graph.Watts_Strogatz()`.\n",
        "*   **Graph-Tool:** `gt.random_graph()`, `gt.price_network()`.\n",
        "\n",
        "Ao declarar uma rede é possível definir se ela será direcionada ou não-direcionada.\n",
        "\n",
        "*   **Rede não-direcionada:** as arestas não possuem direção, ou seja, se existe A → B, existirá B → A.\n",
        "*   **Rede direcionada:** as arestas possuem direção (representadas por setas), ou seja, se existe A → B, não necessáriamente existirá B → A.\n",
        "\n",
        "\n",
        "\n"
      ]
    },
    {
      "cell_type": "code",
      "execution_count": null,
      "metadata": {
        "collapsed": true,
        "id": "Wnzky6FX3OBw"
      },
      "outputs": [],
      "source": [
        "#------xNetwork------\n",
        "xN_network2_undir = nx.erdos_renyi_graph(n=10, p=0.5, directed=False) #construção direta de rede não-direcionada com Erdös–Rényi G(n, p)\n",
        "print(\"Rede 'xN_network2_undir'\")\n",
        "print(\"\\nA rede é direcionada?\", nx.is_directed(xN_network2_undir))\n",
        "\n",
        "nx.draw(xN_network2_undir, with_labels=True, node_color='skyblue', edge_color='gray', node_size=500)\n",
        "plt.show()"
      ]
    },
    {
      "cell_type": "code",
      "execution_count": null,
      "metadata": {
        "id": "pvAEzZ8y9vHM"
      },
      "outputs": [],
      "source": [
        "xN_network2_dir = nx.erdos_renyi_graph(n=10, p=0.5, directed=True) #construção direta de rede direcionada com Erdös–Rényi G(n, p)\n",
        "print(\"Rede 'xN_network2_dir'\")\n",
        "print(\"\\nA rede é direcionada?\", nx.is_directed(xN_network2_dir))\n",
        "\n",
        "plt.figure(figsize=(8, 6))\n",
        "nx.draw_networkx(xN_network2_dir, with_labels=True, node_color='skyblue', edge_color='gray', node_size=500, arrows=True)\n",
        "plt.axis('off')\n",
        "plt.show()"
      ]
    },
    {
      "cell_type": "code",
      "execution_count": null,
      "metadata": {
        "collapsed": true,
        "id": "kltarcZtmzqX"
      },
      "outputs": [],
      "source": [
        "#-------iGraph-------\n",
        "\n",
        "iG_n = 10 #número de nós na rede\n",
        "\n",
        "iG_network2_undir = ig.Graph.Erdos_Renyi(n=10, p=0.5, directed=False) #construção direta de rede não-direcionada com Erdös–Rényi G(n, p)\n",
        "print(\"Rede 'iG_network2_undir'\")\n",
        "print(\"\\nA rede é direcionada?\", iG_network2_undir.is_directed())\n",
        "\n",
        "ig.plot(iG_network2_undir, vertex_color=\"yellow\", vertex_size=25, edge_color=\"gray\", vertex_label=range(iG_n))"
      ]
    },
    {
      "cell_type": "code",
      "execution_count": null,
      "metadata": {
        "id": "sQn5kPgQ90XT"
      },
      "outputs": [],
      "source": [
        "iG_network2_dir = ig.Graph.Erdos_Renyi(n=10, p=0.5, directed=True) #construção direta de rede direcionada com Erdös–Rényi G(n, p)\n",
        "print(\"Rede 'iG_network2_dir'\")\n",
        "print(\"\\nA rede é direcionada?\", iG_network2_dir.is_directed())\n",
        "\n",
        "ig.plot(iG_network2_dir, vertex_color=\"yellow\", vertex_size=25, edge_color=\"gray\", vertex_label=range(iG_n))"
      ]
    },
    {
      "cell_type": "code",
      "execution_count": null,
      "metadata": {
        "id": "LTsRbm8QmzSG"
      },
      "outputs": [],
      "source": [
        "import numpy as np\n",
        "from graph_tool import generation\n",
        "import graph_tool.all as gt\n",
        "\n",
        "n = 10      # número de nós\n",
        "p = 0.5     # probabilidade de aresta (modelo Erdős–Rényi)\n",
        "\n",
        "# ------- Graph-tool (Erdős–Rényi não direcionado) ----\n",
        "gt_network2_undir = generation.random_graph(\n",
        "    n,\n",
        "    lambda: np.random.binomial(n-1, p),  # graus binomial\n",
        "    directed=False # grafo não direcionado\n",
        ")\n",
        "\n",
        "print(\"Rede 'gt_network2_undir'\")\n",
        "print(\"A rede é direcionada?\", gt_network2_undir.is_directed()) # verifica se é direcionaa\n",
        "\n",
        "# layout e visualização (não direcionada)\n",
        "pos = gt.sfdp_layout(gt_network2_undir) # calcula posição dos nós\n",
        "gt.graph_draw(\n",
        "    gt_network2_undir,\n",
        "    pos=pos,\n",
        "    vertex_fill_color=\"yellow\", # cor dos nós\n",
        "    vertex_size=25, # tamanho dos nós\n",
        "    vertex_text=gt_network2_undir.new_vertex_property(\"string\", [str(v) for v in gt_network2_undir.vertices()]),\n",
        "    edge_color=\"gray\", # cor das arestas\n",
        "    output_size=(400, 400) # tamanho da figura\n",
        ")\n",
        "\n",
        "# ------- Graph-tool (Erdős–Rényi direcionado) --------\n",
        "gt_network2_dir = generation.random_graph(\n",
        "    n,\n",
        "    lambda: (np.random.binomial(n-1, p), np.random.binomial(n-1, p)),  # graus (in, out)\n",
        "    directed=True # grafo direcionado\n",
        ")\n",
        "\n",
        "print(\"\\nRede 'gt_network2_dir'\")\n",
        "print(\"A rede é direcionada?\", gt_network2_dir.is_directed())\n",
        "\n",
        "# layout e visualização (direcionada)\n",
        "pos = gt.sfdp_layout(gt_network2_dir)\n",
        "gt.graph_draw(\n",
        "    gt_network2_dir,\n",
        "    pos=pos,\n",
        "    vertex_fill_color=\"yellow\",\n",
        "    vertex_size=25,\n",
        "    vertex_text=gt_network2_dir.new_vertex_property(\"string\", [str(v) for v in gt_network2_dir.vertices()]),\n",
        "    edge_pen_width=1.2, # espessura da aresta\n",
        "    edge_color=\"gray\",\n",
        "    output_size=(400, 400)\n",
        ")"
      ]
    },
    {
      "cell_type": "markdown",
      "metadata": {
        "id": "e5Gs9SU75bfv"
      },
      "source": [
        "---\n",
        "\n",
        "##Conversão de Rede não-direcionada em direcionada\n",
        "\n",
        "**xNetwork:**\n",
        "\n",
        "*   **Função utilizada:** `.to_directed()` - Transforma uma rede não-direcionada (declarada préviamente) em direcionada.\n",
        "*   As arestas adicionadas apontam para os dois sentidos.\n",
        "\n",
        "**iGraph:**\n",
        "\n",
        "*   **Função utilizada:** não possuí uma função nativa.\n",
        "*   É necessário criar uma nova rede vazia (e direcionada) e importar os dados (vértices e arestas) da rede não-direcionada.\n",
        "\n",
        "**Graph-Tool:**\n",
        "\n",
        "*   **Função utilizada:**\n",
        "*   "
      ]
    },
    {
      "cell_type": "code",
      "execution_count": null,
      "metadata": {
        "collapsed": true,
        "id": "qb5Nr_Jj3N1A"
      },
      "outputs": [],
      "source": [
        "#------xNetwork------\n",
        "\n",
        "print(\"Rede 'xN_network2_undir'\")\n",
        "print(\"\\nA rede é direcionada?\", nx.is_directed(xN_network2_undir))\n",
        "print(\"\\nConvertendo para rede direcionada...\")\n",
        "\n",
        "xN_undir_to_dir = xN_network2_undir.to_directed()\n",
        "print(\"\\nA rede é direcionada?\", nx.is_directed(xN_undir_to_dir))\n",
        "\n",
        "plt.figure(figsize=(8, 6))\n",
        "nx.draw_networkx(xN_undir_to_dir, with_labels=True, node_color='skyblue', edge_color='gray', node_size=500, arrows=True)\n",
        "plt.axis('off')\n",
        "plt.show()"
      ]
    },
    {
      "cell_type": "code",
      "execution_count": null,
      "metadata": {
        "id": "txJj0qzLnXDd"
      },
      "outputs": [],
      "source": [
        "#-------iGraph-------\n",
        "\n",
        "print(\"Rede 'iG_network2_undir'\")\n",
        "print(\"\\nA rede é direcionada?\", iG_network2_undir.is_directed())\n",
        "print(\"\\nConvertendo para rede direcionada...\")\n",
        "\n",
        "iG_undir_to_dir = ig.Graph(directed=True) #criação de uma rede direcionada vazia\n",
        "iG_undir_to_dir.add_vertices(iG_network2_undir.vcount()) #adicionando o número de vércices de 'iG_network2_undir' na nova rede direcionada\n",
        "iG_undir_to_dir.add_edges(iG_network2_undir.get_edgelist()) #adicionando as arestas de 'iG_network2_undir' a nova rede direcionada\n",
        "print(\"\\nA rede é direcionada?\", iG_undir_to_dir.is_directed())\n",
        "\n",
        "ig.plot(iG_undir_to_dir, vertex_color=\"yellow\", vertex_size=25, edge_color=\"gray\", vertex_label=range(iG_n))"
      ]
    },
    {
      "cell_type": "code",
      "execution_count": null,
      "metadata": {
        "id": "lKHjE9MEnW7k"
      },
      "outputs": [],
      "source": [
        "#-----Graph-Tool-----\n",
        "# ------- Converter não direcionada -> direcionada ----\n",
        "print(\"\\nConvertendo 'gt_network2_undir' para direcionada...\")\n",
        "\n",
        "gt_undir_to_dir = gt_network2_undir.copy() # copia a rede\n",
        "gt_undir_to_dir.set_directed(True) # muda para direcionada\n",
        "\n",
        "print(\"A rede convertida é direcionada?\", gt_undir_to_dir.is_directed())\n",
        "\n",
        "pos = gt.sfdp_layout(gt_undir_to_dir)\n",
        "gt.graph_draw(\n",
        "    gt_undir_to_dir,\n",
        "    pos=pos,\n",
        "    vertex_fill_color=\"yellow\",\n",
        "    vertex_size=25,\n",
        "    vertex_text=gt_undir_to_dir.new_vertex_property(\"string\", [str(v) for v in gt_undir_to_dir.vertices()]),\n",
        "    edge_color=\"gray\",\n",
        "    output_size=(400, 400)\n",
        ")"
      ]
    },
    {
      "cell_type": "markdown",
      "metadata": {
        "id": "RlbS5rlr-gX8"
      },
      "source": [
        "---\n",
        "\n",
        "##Conversão de Rede direcionada em não-direcionada\n",
        "\n",
        "**xNetwork:**\n",
        "\n",
        "*   **Função utilizada:** `.to_undirected()` - Transforma uma rede direcionada (declarada préviamente) em não-direcionada.\n",
        "\n",
        "**iGraph:**\n",
        "\n",
        "*   **Função utilizada:** não possuí uma função nativa.\n",
        "*   É necessário criar uma nova rede vazia (e não-direcionada) e importar os dados (vértices e arestas) da rede direcionada.\n",
        "\n",
        "**Graph-Tool:**\n",
        "\n",
        "*   **Função utilizada:**\n",
        "*   "
      ]
    },
    {
      "cell_type": "code",
      "execution_count": null,
      "metadata": {
        "collapsed": true,
        "id": "mF1nI1Gp-g4j"
      },
      "outputs": [],
      "source": [
        "#------xNetwork------\n",
        "\n",
        "print(\"Rede 'xN_network2_dir'\")\n",
        "print(\"\\nA rede é direcionada?\", nx.is_directed(xN_network2_dir))\n",
        "print(\"\\nConvertendo para rede não-direcionada...\")\n",
        "\n",
        "xN_dir_to_undir = xN_network2_dir.to_undirected()\n",
        "print(\"\\nA rede é direcionada?\", nx.is_directed(xN_dir_to_undir))\n",
        "\n",
        "plt.figure(figsize=(8, 6))\n",
        "nx.draw_networkx(xN_dir_to_undir, with_labels=True, node_color='skyblue', edge_color='gray', node_size=500, arrows=True)\n",
        "plt.axis('off')\n",
        "plt.show()"
      ]
    },
    {
      "cell_type": "code",
      "execution_count": null,
      "metadata": {
        "id": "pLF4e_uOngGm"
      },
      "outputs": [],
      "source": [
        "#-------iGraph-------\n",
        "\n",
        "print(\"Rede 'iG_network2_dir'\")\n",
        "print(\"\\nA rede é direcionada?\", iG_network2_dir.is_directed())\n",
        "print(\"\\nConvertendo para rede não-direcionada...\")\n",
        "\n",
        "iG_dir_to_undir = ig.Graph(directed=False) #criação de uma rede não-direcionada vazia\n",
        "iG_dir_to_undir.add_vertices(iG_network2_dir.vcount()) #adicionando o número de vércices de 'iG_network2_dir' na nova rede não-direcionada\n",
        "iG_dir_to_undir.add_edges(iG_network2_dir.get_edgelist()) #adicionando as arestas de 'iG_network2_dir' a nova rede não-direcionada\n",
        "print(\"\\nA rede é direcionada?\", iG_dir_to_undir.is_directed())\n",
        "\n",
        "ig.plot(iG_dir_to_undir, vertex_color=\"yellow\", vertex_size=25, edge_color=\"gray\", vertex_label=range(iG_n))"
      ]
    },
    {
      "cell_type": "code",
      "execution_count": null,
      "metadata": {
        "id": "tJxGfjvmnf_W"
      },
      "outputs": [],
      "source": [
        "#-----Graph-Tool-----\n",
        "# ------- Converter direcionada -> não direcionada ----\n",
        "print(\"\\nConvertendo 'gt_network2_dir' para não direcionada...\")\n",
        "\n",
        "gt_dir_to_undir = gt_network2_dir.copy() # copia a rede\n",
        "gt_dir_to_undir.set_directed(False)  # muda para não direcionada\n",
        "\n",
        "print(\"A rede convertida é direcionada?\", gt_dir_to_undir.is_directed())\n",
        "\n",
        "pos = gt.sfdp_layout(gt_dir_to_undir)\n",
        "gt.graph_draw(\n",
        "    gt_dir_to_undir,\n",
        "    pos=pos,\n",
        "    vertex_fill_color=\"yellow\",\n",
        "    vertex_size=25,\n",
        "    vertex_text=gt_dir_to_undir.new_vertex_property(\"string\", [str(v) for v in gt_dir_to_undir.vertices()]),\n",
        "    edge_color=\"gray\",\n",
        "    output_size=(400, 400)\n",
        ")"
      ]
    },
    {
      "cell_type": "markdown",
      "metadata": {
        "id": "hOeO9i83EemX"
      },
      "source": [
        "---\n",
        "\n",
        "##Extração de dados Fundamentais\n",
        "\n",
        "**xNetwork:**\n",
        "\n",
        "*   **Número de nós:** `.number_of_nodes()`\n",
        "*   **Número de arestas:** `.number_of_edges()`\n",
        "*   **Grau médio:** média dos graus dos nós da rede - **Grau de um nó:** `.degree()`\n",
        "*   **Densidade:** `nx.density()`\n",
        "*   **Componentes Conectados:** `nx.number_connected_components()`\n",
        "\n",
        "**iGraph:**\n",
        "\n",
        "*   **Número de nós:** `.vcount()`\n",
        "*   **Número de arestas:** `.ecount()`\n",
        "*   **Grau médio:** média dos graus dos nós da rede - **Grau de um nó:** `.degree()`\n",
        "*   **Densidade:** `.density()`\n",
        "*   **Componentes Conectados:** `.components()`\n",
        "\n",
        "**Graph-Tool:**"
      ]
    },
    {
      "cell_type": "code",
      "execution_count": null,
      "metadata": {
        "collapsed": true,
        "id": "7JOuWzQ5Ee_u"
      },
      "outputs": [],
      "source": [
        "#------xNetwork------\n",
        "\n",
        "xN_n = 10 #número de nós na rede\n",
        "xN_network1 = nx.Graph() #criação de rede vazia\n",
        "xN_network1.add_nodes_from(range(1,xN_n + 1)) #adição de 10 nós (1 a 10)\n",
        "xN_network1_edges = [\n",
        "    (1, 2), (8, 4), (4, 5),\n",
        "    (6, 5), (10, 2), (7, 3), (8, 9),\n",
        "    (7, 10), (10, 1), (6, 10), (7, 9),\n",
        "    (8, 3), (2, 8), (4, 7), (1, 9), (5, 7)\n",
        "]\n",
        "xN_network1.add_edges_from(xN_network1_edges) #adição das arestas\n",
        "\n",
        "xN_N = xN_network1.number_of_nodes() #número de nós da rede\n",
        "xN_E = xN_network1.number_of_edges() #número de arestas da rede\n",
        "xN_average_degree = sum(dict(xN_network1.degree()).values()) / xN_N #grau médio da rede\n",
        "xN_density = nx.density(xN_network1) #densidade da rede\n",
        "xN_num_components = nx.number_connected_components(xN_network1) #número de componentes conectados\n",
        "\n",
        "print(\"Rede 'xN_network1'\")\n",
        "print(\"\\nNúmero de nós da rede: \", xN_N)\n",
        "print(\"\\nNúmero de arestas da rede: \", xN_E)\n",
        "print(\"\\nGrau médio da rede: \", xN_average_degree)\n",
        "print(\"\\nDensidade da rede: \", xN_density)\n",
        "print(\"\\nNúmero de componentes conectados na rede: \", xN_num_components)\n",
        "\n",
        "nx.draw(xN_network1, with_labels=True, node_color='skyblue', edge_color='gray', node_size=500)\n",
        "plt.show()"
      ]
    },
    {
      "cell_type": "code",
      "execution_count": null,
      "metadata": {
        "id": "KG4Fb9Qmnv7P"
      },
      "outputs": [],
      "source": [
        "#-------iGraph-------\n",
        "\n",
        "iG_n = 10 #número de nós na rede\n",
        "iG_network1 = ig.Graph() #criação de rede vazia\n",
        "iG_network1.add_vertices(iG_n) #adição de 10 nós (0 a 9)\n",
        "iG_network1_edges = [\n",
        "    (0, 1), (7, 3), (3, 4),\n",
        "    (5, 4), (9, 1), (6, 2), (7, 8),\n",
        "    (6, 9), (9, 0), (5, 9), (6, 8),\n",
        "    (7, 2), (1, 7), (3, 6), (0, 8), (4, 6)\n",
        "]\n",
        "iG_network1.add_edges(iG_network1_edges) #adição das arestas\n",
        "\n",
        "iG_N = iG_network1.vcount() #número de nós da rede\n",
        "iG_E = iG_network1.ecount() #número de arestas da rede\n",
        "iG_average_degree = sum(iG_network1.degree()) / iG_N #grau médio da rede\n",
        "iG_density = iG_network1.density() #densidade da rede\n",
        "iG_num_components = len(iG_network1.components()) #número de componentes conectados\n",
        "\n",
        "print(\"Rede 'xN_network1'\")\n",
        "print(\"\\nNúmero de nós da rede: \", iG_N)\n",
        "print(\"\\nNúmero de arestas da rede: \", iG_E)\n",
        "print(\"\\nGrau médio da rede: \", iG_average_degree)\n",
        "print(\"\\nDensidade da rede: \", iG_density)\n",
        "print(\"\\nNúmero de componentes conectados na rede: \", iG_num_components)\n",
        "\n",
        "ig.plot(iG_network1, vertex_color=\"yellow\", vertex_size=25, edge_color=\"gray\", vertex_label=range(iG_n))"
      ]
    },
    {
      "cell_type": "code",
      "execution_count": null,
      "metadata": {
        "id": "JGrt3CnKnv0d"
      },
      "outputs": [],
      "source": [
        "#-----Graph-Tool-----\n",
        "\n",
        "import graph_tool.all as gt\n",
        "from graph_tool import generation\n",
        "import numpy as np\n",
        "\n",
        "# Exemplo: rede Erdős–Rényi\n",
        "n = 10 # número de nós da rede\n",
        "p = 0.3\n",
        "g = generation.random_graph(\n",
        "    n,\n",
        "    lambda: np.random.binomial(n-1, p),\n",
        "    directed=False\n",
        ")\n",
        "\n",
        "# -------- Extração de dados --------\n",
        "g_N = g.num_vertices()  # número de nós\n",
        "g_E = g.num_edges()     # número de arestas\n",
        "\n",
        "# grau médio = 2E / N\n",
        "g_average_degree = (2 * g_E) / g_N\n",
        "\n",
        "# densidade = 2E / (N*(N-1)) para não direcionado\n",
        "g_density = (2 * g_E) / (g_N * (g_N - 1))\n",
        "\n",
        "# número de componentes conectados\n",
        "comp, hist = gt.label_components(g)\n",
        "g_num_components = len(hist)\n",
        "\n",
        "#\n",
        "print(\"Rede 'gt_network'\")\n",
        "print(\"\\nNúmero de nós da rede:\", g_N)\n",
        "print(\"Número de arestas da rede:\", g_E)\n",
        "print(\"Grau médio da rede:\", g_average_degree)\n",
        "print(\"Densidade da rede:\", g_density)\n",
        "print(\"Número de componentes conectados:\", g_num_components)"
      ]
    },
    {
      "cell_type": "markdown",
      "metadata": {
        "id": "LvlebLk_rfSN"
      },
      "source": [
        "---\n",
        "\n",
        "##Construção de Rede com Funções Externas\n",
        "\n",
        "É possível mesclar redes com funções externas as bibliotecas.\n",
        "\n",
        "**Ex:** Erdös–Rényi G(n, p)\n",
        "\n",
        "*   Cada par de nós *(i,j)* tem uma chance *p* de se conectar. (sem laços e duplicatas)"
      ]
    },
    {
      "cell_type": "code",
      "execution_count": null,
      "metadata": {
        "id": "tN8Jo8oMzayc"
      },
      "outputs": [],
      "source": [
        "#----Função Externa Erdös–Rényi G(n, p) para Randomização de Arestas----\n",
        "\n",
        "def random_edges(n, p):\n",
        "  edges = []\n",
        "  for i in range(n):\n",
        "    for j in range(i + 1, n):  #condição para evitar laços e duplicatas\n",
        "      if random.random() < p:\n",
        "        edges.append((i, j))\n",
        "  return edges"
      ]
    },
    {
      "cell_type": "code",
      "execution_count": null,
      "metadata": {
        "id": "ryKXzEiirfyz"
      },
      "outputs": [],
      "source": [
        "#------xNetwork------\n",
        "\n",
        "xN_n = 25\n",
        "xN_network3 = nx.Graph()\n",
        "xN_network3.add_nodes_from(range(xN_n))\n",
        "\n",
        "xN_p = 0.5 #probabilidade de haver conexão entre dois nós\n",
        "xN_network3_edges = random_edges(xN_n, xN_p)\n",
        "xN_network3.add_edges_from(xN_network3_edges)\n",
        "\n",
        "print(\"Rede 'xN_network3'\")\n",
        "nx.draw(xN_network3, with_labels=True, node_color='skyblue', edge_color='gray', node_size=500)\n",
        "plt.show()"
      ]
    },
    {
      "cell_type": "code",
      "execution_count": null,
      "metadata": {
        "id": "TabP0Sxtrx2C"
      },
      "outputs": [],
      "source": [
        "#-------iGraph-------\n",
        "\n",
        "iG_n = 25\n",
        "iG_network3 = ig.Graph()\n",
        "iG_network3.add_vertices(iG_n)\n",
        "\n",
        "iG_p = 0.5 #probabilidade de haver conexão entre dois nós\n",
        "iG_network3_edges = random_edges(iG_n, iG_p)\n",
        "iG_network3.add_edges(iG_network3_edges)\n",
        "\n",
        "print(\"Rede 'iG_network3'\")\n",
        "ig.plot(iG_network3, vertex_color=\"yellow\", vertex_size=25, edge_color=\"gray\", vertex_label=range(iG_n))"
      ]
    },
    {
      "cell_type": "code",
      "execution_count": null,
      "metadata": {
        "id": "RnzcbjFurxrL"
      },
      "outputs": [],
      "source": [
        "#-----Graph-Tool-----\n",
        "# ---- Função Externa Erdös–Rényi G(n, p) ----\n",
        "def random_edges(n, p):\n",
        "    edges = []\n",
        "    for i in range(n):\n",
        "        for j in range(i + 1, n):  # evita laços e duplicac\n",
        "            if random.random() < p:\n",
        "                edges.append((i, j))\n",
        "    return edges\n",
        "\n",
        "# ------- Graph-tool -------\n",
        "gt_n = 25 # número de nós da rede\n",
        "gt_p = 0.5  # probabilidade de haver conexão entre dois nós\n",
        "\n",
        "# Criando grafo vazio\n",
        "gt_network3 = gt.Graph(directed=False)\n",
        "gt_network3.add_vertex(gt_n)  # adiciona n vértices\n",
        "\n",
        "# Gera arestas com a função externa e adiciona no grafo\n",
        "gt_network3_edges = random_edges(gt_n, gt_p)\n",
        "gt_network3.add_edge_list(gt_network3_edges)\n",
        "\n",
        "print(\"Rede 'gt_network3'\")\n",
        "print(\"Número de nós:\", gt_network3.num_vertices())\n",
        "print(\"Número de arestas:\", gt_network3.num_edges())\n",
        "\n",
        "# Visualização\n",
        "pos = gt.sfdp_layout(gt_network3)\n",
        "gt.graph_draw(\n",
        "    gt_network3,\n",
        "    pos=pos,\n",
        "    vertex_fill_color=\"yellow\",\n",
        "    vertex_size=25,\n",
        "    vertex_text=gt_network3.new_vertex_property(\"string\", [str(v) for v in gt_network3.vertices()]),\n",
        "    edge_color=\"gray\",\n",
        "    output_size=(400, 400)\n",
        ")"
      ]
    },
    {
      "cell_type": "markdown",
      "metadata": {
        "id": "Q1YUXJG67jSE"
      },
      "source": [
        "##Comparação de desempenho:"
      ]
    },
    {
      "cell_type": "code",
      "execution_count": null,
      "metadata": {
        "colab": {
          "background_save": true
        },
        "id": "neFA4akp7qVG"
      },
      "outputs": [],
      "source": [
        "import time\n",
        "import networkx as nx\n",
        "import igraph as ig\n",
        "import graph_tool.all as gt\n",
        "import random\n",
        "\n",
        "N = 100_000 # número de nós da rede\n",
        "p = 1e-5 # probabilidade de cada nó se conectar a outro nó, usada para gerar o número de arestas por nó\n",
        "\n",
        "# -------- NetworkX --------\n",
        "start = time.time()\n",
        "G_nx = nx.erdos_renyi_graph(N, p)  # cria rede aleatória G(n, p)\n",
        "end = time.time()\n",
        "print(\"Tempo construção NX:\", end - start, \"s\")\n",
        "\n",
        "start = time.time()\n",
        "avg_degree_nx = sum(dict(G_nx.degree()).values()) / G_nx.number_of_nodes() # grau médio = soma(graus)/nós\n",
        "end = time.time()\n",
        "print(\"Tempo grau médio NX:\", end - start, \"s\")\n",
        "\n",
        "#Tempo construção NX: 503.6455810070038 s\n",
        "#Tempo grau médio NX: 0.034218788146972656 s"
      ]
    },
    {
      "cell_type": "code",
      "execution_count": null,
      "metadata": {
        "id": "Xkbn0CT389Su"
      },
      "outputs": [],
      "source": [
        "# -------- igraph --------\n",
        "start = time.time()\n",
        "G_ig = ig.Graph.Erdos_Renyi(n=N, p=p)\n",
        "end = time.time()\n",
        "print(\"Tempo construção iGraph:\", end - start, \"s\")\n",
        "\n",
        "start = time.time()\n",
        "avg_degree_ig = sum(G_ig.degree()) / G_ig.vcount()\n",
        "end = time.time()\n",
        "print(\"Tempo grau médio iGraph:\", end - start, \"s\")\n",
        "\n",
        "#Tempo construção iGraph: 0.02312159538269043 s\n",
        "#Tempo grau médio iGraph: 0.0036230087280273438 s"
      ]
    },
    {
      "cell_type": "code",
      "execution_count": null,
      "metadata": {
        "id": "8ajTUQjA9BKe"
      },
      "outputs": [],
      "source": [
        "# -------- graph-tool --------\n",
        "import time, numpy as np\n",
        "from graph_tool import generation as gtgen\n",
        "import graph_tool.all as gt\n",
        "\n",
        "N = 100_000 # número de nós da rede\n",
        "p = 1e-5 #probabilidade de cada nó se conectar a outro nó, usada para gerar o número de arestas por nó\n",
        "\n",
        "# -------- graph-tool --------\n",
        "start = time.time()\n",
        "G_gt = gtgen.random_graph(N, lambda: np.random.binomial(N-1, p), directed=False)\n",
        "end = time.time()\n",
        "print(\"Tempo construção Graph-tool:\", end - start, \"s\")\n",
        "\n",
        "start = time.time()\n",
        "avg_degree_gt = sum(v.out_degree() for v in G_gt.vertices()) / G_gt.num_vertices()\n",
        "end = time.time()\n",
        "print(\"Tempo grau médio Graph-tool:\", end - start, \"s\")\n",
        "\n",
        "#Tempo construção Graph-tool: 1.2479376792907715 s\n",
        "#Tempo grau médio Graph-tool: 0.24266362190246582 s\n"
      ]
    }
  ],
  "metadata": {
    "colab": {
      "provenance": [],
      "collapsed_sections": [
        "eNYz89DTHe8k",
        "u3UXtRkQ4sDQ",
        "e5Gs9SU75bfv",
        "RlbS5rlr-gX8",
        "hOeO9i83EemX",
        "LvlebLk_rfSN",
        "Q1YUXJG67jSE"
      ],
      "include_colab_link": true
    },
    "kernelspec": {
      "display_name": "Python 3",
      "name": "python3"
    },
    "language_info": {
      "name": "python"
    }
  },
  "nbformat": 4,
  "nbformat_minor": 0
}